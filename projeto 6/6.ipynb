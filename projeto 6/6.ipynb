{
 "cells": [
  {
   "cell_type": "markdown",
   "metadata": {},
   "source": [
    "# INFORMAÇÕES PRÉVIAS\n",
    "Temos 3 tabelas de viagens de aplicativos de transporte de taxi urbano.  \n",
    "Na primeira são contadas a quantidade de viagens que cada empres realizou no periodo.  \n",
    "A segunda indica os bairros das viagens realizadas.  \n",
    "A terceira o clima e o tempo de viagem de um bairro(Loop) até o aeroporto.  \n",
    "Limparemos os dados e analizaremos quais as maiores empresas, os bairros mais movimentados e a influencia do clima. "
   ]
  },
  {
   "cell_type": "code",
   "execution_count": 15,
   "metadata": {
    "scrolled": false
   },
   "outputs": [
    {
     "name": "stdout",
     "output_type": "stream",
     "text": [
      "<class 'pandas.core.frame.DataFrame'>\n",
      "RangeIndex: 64 entries, 0 to 63\n",
      "Data columns (total 2 columns):\n",
      " #   Column        Non-Null Count  Dtype \n",
      "---  ------        --------------  ----- \n",
      " 0   company_name  64 non-null     object\n",
      " 1   trips_amount  64 non-null     int64 \n",
      "dtypes: int64(1), object(1)\n",
      "memory usage: 1.1+ KB\n",
      "count       64.000000\n",
      "mean      2145.484375\n",
      "std       3812.310186\n",
      "min          2.000000\n",
      "25%         20.750000\n",
      "50%        178.500000\n",
      "75%       2106.500000\n",
      "max      19558.000000\n",
      "Name: trips_amount, dtype: float64\n"
     ]
    },
    {
     "data": {
      "text/html": [
       "<div>\n",
       "<style scoped>\n",
       "    .dataframe tbody tr th:only-of-type {\n",
       "        vertical-align: middle;\n",
       "    }\n",
       "\n",
       "    .dataframe tbody tr th {\n",
       "        vertical-align: top;\n",
       "    }\n",
       "\n",
       "    .dataframe thead th {\n",
       "        text-align: right;\n",
       "    }\n",
       "</style>\n",
       "<table border=\"1\" class=\"dataframe\">\n",
       "  <thead>\n",
       "    <tr style=\"text-align: right;\">\n",
       "      <th></th>\n",
       "      <th>company_name</th>\n",
       "      <th>trips_amount</th>\n",
       "    </tr>\n",
       "  </thead>\n",
       "  <tbody>\n",
       "    <tr>\n",
       "      <th>0</th>\n",
       "      <td>Flash Cab</td>\n",
       "      <td>19558</td>\n",
       "    </tr>\n",
       "    <tr>\n",
       "      <th>1</th>\n",
       "      <td>Taxi Affiliation Services</td>\n",
       "      <td>11422</td>\n",
       "    </tr>\n",
       "    <tr>\n",
       "      <th>2</th>\n",
       "      <td>Medallion Leasin</td>\n",
       "      <td>10367</td>\n",
       "    </tr>\n",
       "    <tr>\n",
       "      <th>3</th>\n",
       "      <td>Yellow Cab</td>\n",
       "      <td>9888</td>\n",
       "    </tr>\n",
       "    <tr>\n",
       "      <th>4</th>\n",
       "      <td>Taxi Affiliation Service Yellow</td>\n",
       "      <td>9299</td>\n",
       "    </tr>\n",
       "    <tr>\n",
       "      <th>...</th>\n",
       "      <td>...</td>\n",
       "      <td>...</td>\n",
       "    </tr>\n",
       "    <tr>\n",
       "      <th>59</th>\n",
       "      <td>4053 - 40193 Adwar H. Nikola</td>\n",
       "      <td>7</td>\n",
       "    </tr>\n",
       "    <tr>\n",
       "      <th>60</th>\n",
       "      <td>2733 - 74600 Benny Jona</td>\n",
       "      <td>7</td>\n",
       "    </tr>\n",
       "    <tr>\n",
       "      <th>61</th>\n",
       "      <td>5874 - 73628 Sergey Cab Corp.</td>\n",
       "      <td>5</td>\n",
       "    </tr>\n",
       "    <tr>\n",
       "      <th>62</th>\n",
       "      <td>2241 - 44667 - Felman Corp, Manuel Alonso</td>\n",
       "      <td>3</td>\n",
       "    </tr>\n",
       "    <tr>\n",
       "      <th>63</th>\n",
       "      <td>3556 - 36214 RC Andrews Cab</td>\n",
       "      <td>2</td>\n",
       "    </tr>\n",
       "  </tbody>\n",
       "</table>\n",
       "<p>64 rows × 2 columns</p>\n",
       "</div>"
      ],
      "text/plain": [
       "                                 company_name  trips_amount\n",
       "0                                   Flash Cab         19558\n",
       "1                   Taxi Affiliation Services         11422\n",
       "2                            Medallion Leasin         10367\n",
       "3                                  Yellow Cab          9888\n",
       "4             Taxi Affiliation Service Yellow          9299\n",
       "..                                        ...           ...\n",
       "59               4053 - 40193 Adwar H. Nikola             7\n",
       "60                    2733 - 74600 Benny Jona             7\n",
       "61              5874 - 73628 Sergey Cab Corp.             5\n",
       "62  2241 - 44667 - Felman Corp, Manuel Alonso             3\n",
       "63                3556 - 36214 RC Andrews Cab             2\n",
       "\n",
       "[64 rows x 2 columns]"
      ]
     },
     "execution_count": 15,
     "metadata": {},
     "output_type": "execute_result"
    }
   ],
   "source": [
    "\n",
    "#importando pandas para operações de analise de Banco de Dados\n",
    "import pandas as pd\n",
    "#temos o caminho relativo, para o jupter online e o local para rodar localmente (no meu computador)    \n",
    "try: \n",
    "    df=pd.read_csv('/datasets/project_sql_result_01.csv')\n",
    "except:\n",
    "    df=pd.read_csv('project_sql_result_01.csv')\n",
    "#vamos nomear df que tem dados das viagens por empresa como 'viagem_empresa', para não confundir.\n",
    "viagem_empresa= df\n",
    "#vejamos as informações gerais\n",
    "viagem_empresa.info()\n",
    "print(viagem_empresa['trips_amount'].describe())\n",
    "viagem_empresa\n",
    "#nada anormal"
   ]
  },
  {
   "cell_type": "code",
   "execution_count": 16,
   "metadata": {},
   "outputs": [
    {
     "name": "stdout",
     "output_type": "stream",
     "text": [
      "0\n",
      "0\n"
     ]
    }
   ],
   "source": [
    "#investigando duplicadas:\n",
    "print(viagem_empresa.duplicated().sum())\n",
    "viagem_empresa=viagem_empresa.drop_duplicates()\n",
    "print(viagem_empresa.duplicated().sum())"
   ]
  },
  {
   "cell_type": "code",
   "execution_count": 17,
   "metadata": {},
   "outputs": [
    {
     "name": "stdout",
     "output_type": "stream",
     "text": [
      "<class 'pandas.core.frame.DataFrame'>\n",
      "RangeIndex: 94 entries, 0 to 93\n",
      "Data columns (total 2 columns):\n",
      " #   Column                 Non-Null Count  Dtype  \n",
      "---  ------                 --------------  -----  \n",
      " 0   dropoff_location_name  94 non-null     object \n",
      " 1   average_trips          94 non-null     float64\n",
      "dtypes: float64(1), object(1)\n",
      "memory usage: 1.6+ KB\n",
      "count       94.000000\n",
      "mean       599.953728\n",
      "std       1714.591098\n",
      "min          1.800000\n",
      "25%         14.266667\n",
      "50%         52.016667\n",
      "75%        298.858333\n",
      "max      10727.466667\n",
      "Name: average_trips, dtype: float64\n"
     ]
    },
    {
     "data": {
      "text/html": [
       "<div>\n",
       "<style scoped>\n",
       "    .dataframe tbody tr th:only-of-type {\n",
       "        vertical-align: middle;\n",
       "    }\n",
       "\n",
       "    .dataframe tbody tr th {\n",
       "        vertical-align: top;\n",
       "    }\n",
       "\n",
       "    .dataframe thead th {\n",
       "        text-align: right;\n",
       "    }\n",
       "</style>\n",
       "<table border=\"1\" class=\"dataframe\">\n",
       "  <thead>\n",
       "    <tr style=\"text-align: right;\">\n",
       "      <th></th>\n",
       "      <th>dropoff_location_name</th>\n",
       "      <th>average_trips</th>\n",
       "    </tr>\n",
       "  </thead>\n",
       "  <tbody>\n",
       "    <tr>\n",
       "      <th>0</th>\n",
       "      <td>Loop</td>\n",
       "      <td>10727.466667</td>\n",
       "    </tr>\n",
       "    <tr>\n",
       "      <th>1</th>\n",
       "      <td>River North</td>\n",
       "      <td>9523.666667</td>\n",
       "    </tr>\n",
       "    <tr>\n",
       "      <th>2</th>\n",
       "      <td>Streeterville</td>\n",
       "      <td>6664.666667</td>\n",
       "    </tr>\n",
       "    <tr>\n",
       "      <th>3</th>\n",
       "      <td>West Loop</td>\n",
       "      <td>5163.666667</td>\n",
       "    </tr>\n",
       "    <tr>\n",
       "      <th>4</th>\n",
       "      <td>O'Hare</td>\n",
       "      <td>2546.900000</td>\n",
       "    </tr>\n",
       "    <tr>\n",
       "      <th>...</th>\n",
       "      <td>...</td>\n",
       "      <td>...</td>\n",
       "    </tr>\n",
       "    <tr>\n",
       "      <th>89</th>\n",
       "      <td>Mount Greenwood</td>\n",
       "      <td>3.137931</td>\n",
       "    </tr>\n",
       "    <tr>\n",
       "      <th>90</th>\n",
       "      <td>Hegewisch</td>\n",
       "      <td>3.117647</td>\n",
       "    </tr>\n",
       "    <tr>\n",
       "      <th>91</th>\n",
       "      <td>Burnside</td>\n",
       "      <td>2.333333</td>\n",
       "    </tr>\n",
       "    <tr>\n",
       "      <th>92</th>\n",
       "      <td>East Side</td>\n",
       "      <td>1.961538</td>\n",
       "    </tr>\n",
       "    <tr>\n",
       "      <th>93</th>\n",
       "      <td>Riverdale</td>\n",
       "      <td>1.800000</td>\n",
       "    </tr>\n",
       "  </tbody>\n",
       "</table>\n",
       "<p>94 rows × 2 columns</p>\n",
       "</div>"
      ],
      "text/plain": [
       "   dropoff_location_name  average_trips\n",
       "0                   Loop   10727.466667\n",
       "1            River North    9523.666667\n",
       "2          Streeterville    6664.666667\n",
       "3              West Loop    5163.666667\n",
       "4                 O'Hare    2546.900000\n",
       "..                   ...            ...\n",
       "89       Mount Greenwood       3.137931\n",
       "90             Hegewisch       3.117647\n",
       "91              Burnside       2.333333\n",
       "92             East Side       1.961538\n",
       "93             Riverdale       1.800000\n",
       "\n",
       "[94 rows x 2 columns]"
      ]
     },
     "execution_count": 17,
     "metadata": {},
     "output_type": "execute_result"
    }
   ],
   "source": [
    "#façamos o mesmo para a tabela 2\n",
    "try: \n",
    "    df2=pd.read_csv('/datasets/project_sql_result_04.csv')\n",
    "except:\n",
    "    df2=pd.read_csv('project_sql_result_04.csv')\n",
    "viagem_bairro  = df2 \n",
    "viagem_bairro.info()\n",
    "print(viagem_bairro['average_trips'].describe())\n",
    "viagem_bairro"
   ]
  },
  {
   "cell_type": "code",
   "execution_count": 18,
   "metadata": {},
   "outputs": [
    {
     "name": "stdout",
     "output_type": "stream",
     "text": [
      "0\n",
      "0\n"
     ]
    }
   ],
   "source": [
    "#investigando duplicadas:\n",
    "print(viagem_bairro.duplicated().sum())\n",
    "viagem_bairro=viagem_bairro.drop_duplicates()\n",
    "print(viagem_bairro.duplicated().sum())\n"
   ]
  },
  {
   "cell_type": "code",
   "execution_count": 19,
   "metadata": {
    "scrolled": true
   },
   "outputs": [
    {
     "name": "stdout",
     "output_type": "stream",
     "text": [
      "  dropoff_location_name  average_trips\n",
      "0                  Loop   10727.466667\n",
      "1           River North    9523.666667\n",
      "2         Streeterville    6664.666667\n",
      "3             West Loop    5163.666667\n",
      "4                O'Hare    2546.900000\n",
      "5             Lake View    2420.966667\n",
      "6            Grant Park    2068.533333\n",
      "7         Museum Campus    1510.000000\n",
      "8            Gold Coast    1364.233333\n",
      "9    Sheffield & DePaul    1259.766667\n"
     ]
    }
   ],
   "source": [
    "#vamos identificar os principais bairros em termos de destino \n",
    "#para isso vamos usar o sort_values na coluna average_trips selecionar os 10 primeiros resultados e salvar em top10\n",
    "top10=viagem_bairro.sort_values(by = ['average_trips'], ascending = False).head(10)\n",
    "print(top10)"
   ]
  },
  {
   "cell_type": "code",
   "execution_count": 20,
   "metadata": {
    "scrolled": true
   },
   "outputs": [],
   "source": [
    "#vamos fazer graficos para melhor visualização\n",
    "#primeiro vejamos as empresas e o numero de viagens (usei apenas as 20 maiores para melhor compreenção)"
   ]
  },
  {
   "cell_type": "code",
   "execution_count": 21,
   "metadata": {},
   "outputs": [
    {
     "data": {
      "text/plain": [
       "<Axes: xlabel='company_name'>"
      ]
     },
     "execution_count": 21,
     "metadata": {},
     "output_type": "execute_result"
    },
    {
     "data": {
      "image/png": "[encoded data removed]",
      "text/plain": [
       "<Figure size 1000x1000 with 1 Axes>"
      ]
     },
     "metadata": {},
     "output_type": "display_data"
    }
   ],
   "source": [
    "#uma grafico de barras será suficiente\n",
    "df.sort_values(by= 'trips_amount', ascending = False).head(20).plot(kind='bar',x= 'company_name', y='trips_amount', figsize= [10,10])"
   ]
  },
  {
   "cell_type": "code",
   "execution_count": 22,
   "metadata": {
    "scrolled": false
   },
   "outputs": [
    {
     "data": {
      "text/html": [
       "<div>\n",
       "<style scoped>\n",
       "    .dataframe tbody tr th:only-of-type {\n",
       "        vertical-align: middle;\n",
       "    }\n",
       "\n",
       "    .dataframe tbody tr th {\n",
       "        vertical-align: top;\n",
       "    }\n",
       "\n",
       "    .dataframe thead th {\n",
       "        text-align: right;\n",
       "    }\n",
       "</style>\n",
       "<table border=\"1\" class=\"dataframe\">\n",
       "  <thead>\n",
       "    <tr style=\"text-align: right;\">\n",
       "      <th></th>\n",
       "      <th>dropoff_location_name</th>\n",
       "      <th>average_trips</th>\n",
       "    </tr>\n",
       "  </thead>\n",
       "  <tbody>\n",
       "    <tr>\n",
       "      <th>0</th>\n",
       "      <td>Loop</td>\n",
       "      <td>10727.466667</td>\n",
       "    </tr>\n",
       "    <tr>\n",
       "      <th>1</th>\n",
       "      <td>River North</td>\n",
       "      <td>9523.666667</td>\n",
       "    </tr>\n",
       "    <tr>\n",
       "      <th>2</th>\n",
       "      <td>Streeterville</td>\n",
       "      <td>6664.666667</td>\n",
       "    </tr>\n",
       "    <tr>\n",
       "      <th>3</th>\n",
       "      <td>West Loop</td>\n",
       "      <td>5163.666667</td>\n",
       "    </tr>\n",
       "    <tr>\n",
       "      <th>4</th>\n",
       "      <td>O'Hare</td>\n",
       "      <td>2546.900000</td>\n",
       "    </tr>\n",
       "    <tr>\n",
       "      <th>5</th>\n",
       "      <td>Lake View</td>\n",
       "      <td>2420.966667</td>\n",
       "    </tr>\n",
       "    <tr>\n",
       "      <th>6</th>\n",
       "      <td>Grant Park</td>\n",
       "      <td>2068.533333</td>\n",
       "    </tr>\n",
       "    <tr>\n",
       "      <th>7</th>\n",
       "      <td>Museum Campus</td>\n",
       "      <td>1510.000000</td>\n",
       "    </tr>\n",
       "    <tr>\n",
       "      <th>8</th>\n",
       "      <td>Gold Coast</td>\n",
       "      <td>1364.233333</td>\n",
       "    </tr>\n",
       "    <tr>\n",
       "      <th>9</th>\n",
       "      <td>Sheffield &amp; DePaul</td>\n",
       "      <td>1259.766667</td>\n",
       "    </tr>\n",
       "  </tbody>\n",
       "</table>\n",
       "</div>"
      ],
      "text/plain": [
       "  dropoff_location_name  average_trips\n",
       "0                  Loop   10727.466667\n",
       "1           River North    9523.666667\n",
       "2         Streeterville    6664.666667\n",
       "3             West Loop    5163.666667\n",
       "4                O'Hare    2546.900000\n",
       "5             Lake View    2420.966667\n",
       "6            Grant Park    2068.533333\n",
       "7         Museum Campus    1510.000000\n",
       "8            Gold Coast    1364.233333\n",
       "9    Sheffield & DePaul    1259.766667"
      ]
     },
     "execution_count": 22,
     "metadata": {},
     "output_type": "execute_result"
    },
    {
     "data": {
      "image/png": "[encoded data removed]",
      "text/plain": [
       "<Figure size 640x480 with 1 Axes>"
      ]
     },
     "metadata": {},
     "output_type": "display_data"
    }
   ],
   "source": [
    "# agora um grafico para os 10 bairros com mais corridas:\n",
    "top10.plot(kind='bar', x ='dropoff_location_name', y = 'average_trips')\n",
    "top10"
   ]
  },
  {
   "cell_type": "markdown",
   "metadata": {},
   "source": [
    "vejo que  quatro bairros são muito mais visado que os demais\n",
    "além disso, flashcab é a empresa numero 1 com quase o dobro de viagens da segunda colocada \n",
    "alem disso as 9 maiores empresas, com exceção da flashcab são parecidas em numero de corridas"
   ]
  },
  {
   "cell_type": "code",
   "execution_count": 23,
   "metadata": {},
   "outputs": [
    {
     "name": "stdout",
     "output_type": "stream",
     "text": [
      "<class 'pandas.core.frame.DataFrame'>\n",
      "RangeIndex: 1068 entries, 0 to 1067\n",
      "Data columns (total 3 columns):\n",
      " #   Column              Non-Null Count  Dtype  \n",
      "---  ------              --------------  -----  \n",
      " 0   start_ts            1068 non-null   object \n",
      " 1   weather_conditions  1068 non-null   object \n",
      " 2   duration_seconds    1068 non-null   float64\n",
      "dtypes: float64(1), object(2)\n",
      "memory usage: 25.2+ KB\n",
      "<class 'pandas.core.frame.DataFrame'>\n",
      "RangeIndex: 1068 entries, 0 to 1067\n",
      "Data columns (total 3 columns):\n",
      " #   Column              Non-Null Count  Dtype         \n",
      "---  ------              --------------  -----         \n",
      " 0   start_ts            1068 non-null   datetime64[ns]\n",
      " 1   weather_conditions  1068 non-null   object        \n",
      " 2   duration_seconds    1068 non-null   float64       \n",
      "dtypes: datetime64[ns](1), float64(1), object(1)\n",
      "memory usage: 25.2+ KB\n",
      "weather_conditions\n",
      "Good    888\n",
      "Bad     180\n",
      "Name: count, dtype: int64\n"
     ]
    },
    {
     "data": {
      "text/html": [
       "<div>\n",
       "<style scoped>\n",
       "    .dataframe tbody tr th:only-of-type {\n",
       "        vertical-align: middle;\n",
       "    }\n",
       "\n",
       "    .dataframe tbody tr th {\n",
       "        vertical-align: top;\n",
       "    }\n",
       "\n",
       "    .dataframe thead th {\n",
       "        text-align: right;\n",
       "    }\n",
       "</style>\n",
       "<table border=\"1\" class=\"dataframe\">\n",
       "  <thead>\n",
       "    <tr style=\"text-align: right;\">\n",
       "      <th></th>\n",
       "      <th>start_ts</th>\n",
       "      <th>weather_conditions</th>\n",
       "      <th>duration_seconds</th>\n",
       "    </tr>\n",
       "  </thead>\n",
       "  <tbody>\n",
       "    <tr>\n",
       "      <th>0</th>\n",
       "      <td>2017-11-25 16:00:00</td>\n",
       "      <td>Good</td>\n",
       "      <td>2410.0</td>\n",
       "    </tr>\n",
       "    <tr>\n",
       "      <th>1</th>\n",
       "      <td>2017-11-25 14:00:00</td>\n",
       "      <td>Good</td>\n",
       "      <td>1920.0</td>\n",
       "    </tr>\n",
       "    <tr>\n",
       "      <th>2</th>\n",
       "      <td>2017-11-25 12:00:00</td>\n",
       "      <td>Good</td>\n",
       "      <td>1543.0</td>\n",
       "    </tr>\n",
       "    <tr>\n",
       "      <th>3</th>\n",
       "      <td>2017-11-04 10:00:00</td>\n",
       "      <td>Good</td>\n",
       "      <td>2512.0</td>\n",
       "    </tr>\n",
       "    <tr>\n",
       "      <th>4</th>\n",
       "      <td>2017-11-11 07:00:00</td>\n",
       "      <td>Good</td>\n",
       "      <td>1440.0</td>\n",
       "    </tr>\n",
       "    <tr>\n",
       "      <th>...</th>\n",
       "      <td>...</td>\n",
       "      <td>...</td>\n",
       "      <td>...</td>\n",
       "    </tr>\n",
       "    <tr>\n",
       "      <th>1063</th>\n",
       "      <td>2017-11-25 11:00:00</td>\n",
       "      <td>Good</td>\n",
       "      <td>0.0</td>\n",
       "    </tr>\n",
       "    <tr>\n",
       "      <th>1064</th>\n",
       "      <td>2017-11-11 10:00:00</td>\n",
       "      <td>Good</td>\n",
       "      <td>1318.0</td>\n",
       "    </tr>\n",
       "    <tr>\n",
       "      <th>1065</th>\n",
       "      <td>2017-11-11 13:00:00</td>\n",
       "      <td>Good</td>\n",
       "      <td>2100.0</td>\n",
       "    </tr>\n",
       "    <tr>\n",
       "      <th>1066</th>\n",
       "      <td>2017-11-11 08:00:00</td>\n",
       "      <td>Good</td>\n",
       "      <td>1380.0</td>\n",
       "    </tr>\n",
       "    <tr>\n",
       "      <th>1067</th>\n",
       "      <td>2017-11-04 16:00:00</td>\n",
       "      <td>Bad</td>\n",
       "      <td>2834.0</td>\n",
       "    </tr>\n",
       "  </tbody>\n",
       "</table>\n",
       "<p>1068 rows × 3 columns</p>\n",
       "</div>"
      ],
      "text/plain": [
       "                start_ts weather_conditions  duration_seconds\n",
       "0    2017-11-25 16:00:00               Good            2410.0\n",
       "1    2017-11-25 14:00:00               Good            1920.0\n",
       "2    2017-11-25 12:00:00               Good            1543.0\n",
       "3    2017-11-04 10:00:00               Good            2512.0\n",
       "4    2017-11-11 07:00:00               Good            1440.0\n",
       "...                  ...                ...               ...\n",
       "1063 2017-11-25 11:00:00               Good               0.0\n",
       "1064 2017-11-11 10:00:00               Good            1318.0\n",
       "1065 2017-11-11 13:00:00               Good            2100.0\n",
       "1066 2017-11-11 08:00:00               Good            1380.0\n",
       "1067 2017-11-04 16:00:00                Bad            2834.0\n",
       "\n",
       "[1068 rows x 3 columns]"
      ]
     },
     "execution_count": 23,
     "metadata": {},
     "output_type": "execute_result"
    }
   ],
   "source": [
    "#agora vamos analisar uma terceira tabela que fala de clima\n",
    "try: \n",
    "    df3=pd.read_csv('/datasets/datasets/project_sql_result_07.csv')\n",
    "except:\n",
    "    df3=pd.read_csv('project_sql_result_07.csv')\n",
    "clima = df3\n",
    "clima.info()\n",
    "#percebi necessidade de conversão do tipo de objeto string para datetime\n",
    "clima['start_ts'] = pd.to_datetime(clima['start_ts'])\n",
    "clima.info()\n",
    "print(clima['weather_conditions'].value_counts())\n",
    "clima"
   ]
  },
  {
   "cell_type": "markdown",
   "metadata": {},
   "source": [
    "Passo 5. Testando hipóteses (Python)  \n",
    "/datasets/project_sql_result_07.csv — o resultado da última consulta. Ele contém dados sobre viagens do Loop para o Aeroporto Internacional O'Hare.   Lembre-se, estes são os valores dos campos da tabela:  \n",
    "    • start_ts  \n",
    "        ◦ data e hora de coleta  \n",
    "    • weather_conditions  \n",
    "        ◦ condições meteorológicas no momento em que a corrida começou  \n",
    "    • duration_seconds  \n",
    "        ◦ duração da corrida em segundos  \n",
    "Teste a hipótese:  \n",
    "\"A duração média dos passeios do Loop para o Aeroporto Internacional O'Hare muda nos sábados chuvosos.\"   \n",
    "Decida onde definir o nível de significância (alfa) por conta própria.  \n",
    "Explique:  \n",
    "    • como você formou as hipóteses nula e alternativa  \n",
    "    • qual critério você usou para testar a hipótese e porque  "
   ]
  },
  {
   "cell_type": "code",
   "execution_count": 24,
   "metadata": {},
   "outputs": [
    {
     "name": "stdout",
     "output_type": "stream",
     "text": [
      "197\n",
      "0\n"
     ]
    }
   ],
   "source": [
    "#investigando duplicadas:\n",
    "print(clima.duplicated().sum())\n",
    "clima=clima.drop_duplicates()\n",
    "print(clima.duplicated().sum())\n",
    "#achamos 197 linhas duplicadas e às excluimos"
   ]
  },
  {
   "cell_type": "code",
   "execution_count": 25,
   "metadata": {},
   "outputs": [
    {
     "name": "stdout",
     "output_type": "stream",
     "text": [
      "6       2969.0\n",
      "30      1980.0\n",
      "34      2460.0\n",
      "51      2760.0\n",
      "52      2460.0\n",
      "         ...  \n",
      "1031    2560.0\n",
      "1032    1908.0\n",
      "1053    2400.0\n",
      "1061    2186.0\n",
      "1067    2834.0\n",
      "Name: duration_seconds, Length: 148, dtype: float64\n",
      "0       2410.0\n",
      "1       1920.0\n",
      "2       1543.0\n",
      "3       2512.0\n",
      "4       1440.0\n",
      "         ...  \n",
      "1057    2492.0\n",
      "1059    1303.0\n",
      "1060    2700.0\n",
      "1063       0.0\n",
      "1064    1318.0\n",
      "Name: duration_seconds, Length: 723, dtype: float64\n"
     ]
    }
   ],
   "source": [
    "#vamos ver as medias do tempo de corrida, quando o tempo está chuvoso e quando está bom\n",
    "clima.groupby('weather_conditions').mean()\n",
    "#salvando as amostras de tempo bom e tempo ruim em variaveis diferentes\n",
    "wcBad = clima[clima['weather_conditions']=='Bad']['duration_seconds']\n",
    "wcGood = clima[clima['weather_conditions']=='Good']['duration_seconds']\n",
    "print(wcBad)\n",
    "print(wcGood)"
   ]
  },
  {
   "cell_type": "code",
   "execution_count": 26,
   "metadata": {},
   "outputs": [
    {
     "name": "stdout",
     "output_type": "stream",
     "text": [
      "(array([ 2., 13., 24., 17., 36., 35., 17.,  3.,  0.,  1.]), array([ 480.,  930., 1380., 1830., 2280., 2730., 3180., 3630., 4080.,\n",
      "       4530., 4980.]), <BarContainer object of 10 artists>)\n"
     ]
    },
    {
     "data": {
      "image/png": "[encoded data removed]",
      "text/plain": [
       "<Figure size 640x480 with 1 Axes>"
      ]
     },
     "metadata": {},
     "output_type": "display_data"
    }
   ],
   "source": [
    "# vamos ver como é a distribuição dos dados de clima bom e clima ruim:\n",
    "import matplotlib.pyplot as plt\n",
    "print(plt.hist(wcBad, 10))"
   ]
  },
  {
   "cell_type": "code",
   "execution_count": 27,
   "metadata": {
    "scrolled": false
   },
   "outputs": [
    {
     "name": "stdout",
     "output_type": "stream",
     "text": [
      "(array([  8., 210., 245., 177.,  71.,   8.,   2.,   0.,   1.,   1.]), array([   0.,  744., 1488., 2232., 2976., 3720., 4464., 5208., 5952.,\n",
      "       6696., 7440.]), <BarContainer object of 10 artists>)\n"
     ]
    },
    {
     "data": {
      "image/png": "[encoded data removed]",
      "text/plain": [
       "<Figure size 640x480 with 1 Axes>"
      ]
     },
     "metadata": {},
     "output_type": "display_data"
    }
   ],
   "source": [
    "print(plt.hist(wcGood, 10))"
   ]
  },
  {
   "cell_type": "code",
   "execution_count": 28,
   "metadata": {},
   "outputs": [
    {
     "data": {
      "text/plain": [
       "0       2410.0\n",
       "1       1920.0\n",
       "2       1543.0\n",
       "3       2512.0\n",
       "4       1440.0\n",
       "         ...  \n",
       "1057    2492.0\n",
       "1059    1303.0\n",
       "1060    2700.0\n",
       "1063       0.0\n",
       "1064    1318.0\n",
       "Name: duration_seconds, Length: 723, dtype: float64"
      ]
     },
     "execution_count": 28,
     "metadata": {},
     "output_type": "execute_result"
    }
   ],
   "source": [
    "wcGood"
   ]
  },
  {
   "cell_type": "code",
   "execution_count": 29,
   "metadata": {},
   "outputs": [
    {
     "name": "stdout",
     "output_type": "stream",
     "text": [
      "count     709.000000\n",
      "mean     2026.345557\n",
      "std       678.376927\n",
      "min      1018.000000\n",
      "25%      1440.000000\n",
      "50%      1909.000000\n",
      "75%      2475.000000\n",
      "max      3982.000000\n",
      "Name: duration_seconds, dtype: float64\n",
      "(array([ 81., 186.,  87.,  86.,  96.,  66.,  44.,  30.,  26.,   7.]), array([1018. , 1314.4, 1610.8, 1907.2, 2203.6, 2500. , 2796.4, 3092.8,\n",
      "       3389.2, 3685.6, 3982. ]), <BarContainer object of 10 artists>)\n"
     ]
    },
    {
     "data": {
      "image/png": "[encoded data removed]",
      "text/plain": [
       "<Figure size 640x480 with 1 Axes>"
      ]
     },
     "metadata": {},
     "output_type": "display_data"
    }
   ],
   "source": [
    "#determinando limite para remover valores excentricos (outlines)\n",
    "Q1 = wcGood.quantile(0.25)\n",
    "Q3 = wcGood.quantile(0.75)\n",
    "IQR = Q3 - Q1\n",
    "\n",
    "# Defina os limites inferior e superior para remover outliers\n",
    "lower_bound = Q1 - 1.5 * IQR\n",
    "upper_bound = Q3 + 1.5 * IQR\n",
    "\n",
    "# Remova os outliers\n",
    "wGLimpo = wcGood[(wcGood >= lower_bound) & (wcGood <= upper_bound)]\n",
    "\n",
    "#alem disso, como ninguem é um foguete, acho impossivel chegar ao aeroporto(que fica a quase 10 milhas(em linha reta))\n",
    "#em menos de 5 min\n",
    "# vejamos o tempo de um veiculo voador a 100km/h:  10milhas = 16km ; 16km/ 100km/h = 0.16h; 0.16h*3600 = 576 segundos\n",
    "#portanto qualquer tempo abaixo de 500s ~= 8 min será considerado irreal\n",
    "\n",
    "wGLimpo = wGLimpo[wGLimpo>500]\n",
    "print(wGLimpo.describe())\n",
    "print(plt.hist(wGLimpo, 10))"
   ]
  },
  {
   "cell_type": "code",
   "execution_count": 30,
   "metadata": {},
   "outputs": [
    {
     "name": "stdout",
     "output_type": "stream",
     "text": [
      "(array([19., 17.,  5., 17., 26., 21., 21., 11.,  6.,  2.]), array([1182. , 1468.2, 1754.4, 2040.6, 2326.8, 2613. , 2899.2, 3185.4,\n",
      "       3471.6, 3757.8, 4044. ]), <BarContainer object of 10 artists>)\n"
     ]
    },
    {
     "data": {
      "image/png": "[encoded data removed]",
      "text/plain": [
       "<Figure size 640x480 with 1 Axes>"
      ]
     },
     "metadata": {},
     "output_type": "display_data"
    }
   ],
   "source": [
    "Q1b = wcBad.quantile(0.25)\n",
    "Q3b = wcBad.quantile(0.75)\n",
    "IQRb = Q3b - Q1b\n",
    "\n",
    "# Defina os limites inferior e superior para remover outliers\n",
    "lower_boundb = Q1b - 1.5 * IQRb\n",
    "upper_boundb = Q3b + 1.5 * IQRb\n",
    "\n",
    "# Remova os outliers\n",
    "wBLimpo = wcBad[(wcBad >= lower_bound) & (wcBad <= upper_bound)]\n",
    "wBLimpo = wBLimpo[wBLimpo>500]\n",
    "\n",
    "\n",
    "print(plt.hist(wBLimpo, 10))"
   ]
  },
  {
   "cell_type": "code",
   "execution_count": 31,
   "metadata": {},
   "outputs": [],
   "source": [
    "#agora vamos comparar as duas amostras a de tempo bom e de tempo ruim\n",
    "#importando biblioteca\n",
    "from scipy import stats as st\n",
    "import numpy as np\n",
    "import scipy"
   ]
  },
  {
   "cell_type": "code",
   "execution_count": 32,
   "metadata": {},
   "outputs": [
    {
     "name": "stdout",
     "output_type": "stream",
     "text": [
      "0.017937362876298865\n",
      "False\n"
     ]
    }
   ],
   "source": [
    "#usaremos também  teste de Levene\n",
    "from scipy import stats as st\n",
    "resp=scipy.stats.levene(wBLimpo,wGLimpo)\n",
    "print(resp.statistic)\n",
    "# defimos um nível crítico de significância estatística e chamo de alfa.\n",
    "alpha = 0.05 \n",
    "#se o valor do teste for menor que alfa, rejeitamos a hipótese de a variacia ser igual\n",
    "#crio uma variavel booliana \"vari\" com valor verdadeiro ou falso \n",
    "#conforme a probabilidade de as variancias das amostras serem iguais\n",
    "if resp.statistic < alpha:\n",
    "    vari=False \n",
    "    print(vari)\n",
    "else:\n",
    "    vari=True \n",
    "    print(vari)"
   ]
  },
  {
   "cell_type": "code",
   "execution_count": 33,
   "metadata": {
    "scrolled": true
   },
   "outputs": [
    {
     "name": "stdout",
     "output_type": "stream",
     "text": [
      "p-value:  2.5862238821064217e-09\n",
      "Rejeitamos a hipótese de que o clima não influencia no tempo de corrida\n"
     ]
    }
   ],
   "source": [
    "\n",
    "#se o valor-p for menor que alfa, rejeitamos a hipótese \n",
    "#no caso, defino que: se a chance de ser coincidência for menor que 5%, então não foi coincidência, mas o clima interferindo!\n",
    "\n",
    "hipotese_nula= 'o clima não influencia no tempo de corrida'\n",
    "\n",
    "resultado = st.ttest_ind(wBLimpo, wGLimpo, equal_var=vari)\n",
    "print('p-value: ', resultado.pvalue)\n",
    "\n",
    "if resultado.pvalue < alpha:\n",
    "  print(\"Rejeitamos a hipótese de que \"+ hipotese_nula)\n",
    "else:\n",
    "  print(\"Nós não podemos rejeitar a hipótese de que \"+ hipotese_nula)\n",
    "#p-value:  4.356466833939937e-10 , portanto uma probabilidade que beira o impossível levando apenas a uma conclusão plausível:\n"
   ]
  },
  {
   "cell_type": "markdown",
   "metadata": {},
   "source": [
    "# Conclusao"
   ]
  },
  {
   "cell_type": "markdown",
   "metadata": {},
   "source": [
    "como esperado, quando chove, ou ocorre uma tempestade as corridas duram mais. \n",
    "Obviamente presume-se que o transito fica mais intenso, os carros andam mais devagar, entre outras atitudes que contribuem para o maior tempo de viagem."
   ]
  },
  {
   "cell_type": "code",
   "execution_count": null,
   "metadata": {},
   "outputs": [],
   "source": []
  }
 ],
 "metadata": {
  "kernelspec": {
   "display_name": "Python 3 (ipykernel)",
   "language": "python",
   "name": "python3"
  },
  "language_info": {
   "codemirror_mode": {
    "name": "ipython",
    "version": 3
   },
   "file_extension": ".py",
   "mimetype": "text/x-python",
   "name": "python",
   "nbconvert_exporter": "python",
   "pygments_lexer": "ipython3",
   "version": "3.11.8"
  },
  "toc": {
   "base_numbering": 1,
   "nav_menu": {},
   "number_sections": true,
   "sideBar": true,
   "skip_h1_title": true,
   "title_cell": "Table of Contents",
   "title_sidebar": "Contents",
   "toc_cell": false,
   "toc_position": {},
   "toc_section_display": true,
   "toc_window_display": false
  }
 },
 "nbformat": 4,
 "nbformat_minor": 2
}
